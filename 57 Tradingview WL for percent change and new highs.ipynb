{
 "cells": [
  {
   "cell_type": "code",
   "execution_count": 1,
   "id": "142b768c",
   "metadata": {},
   "outputs": [],
   "source": [
    "### lenovo desktop file path\n",
    "master_file_path = \"C:\\\\Users\\\\User\\\\Dropbox\\\\SQL Stock Market Data\\\\Python Code from ChatGPT\\\\Master File\\\\CompanyMaster.csv\"\n",
    "directory = \"C:\\\\Users\\\\User\\\\Dropbox\\\\SQL Stock Market Data\\\\Data Files\\\\\"  # Replace with the path to your directory\n",
    "output_path = \"C:\\\\Users\\\\User\\\\Dropbox\\\\SQL Stock Market Data\\\\Python Code from ChatGPT\\\\Output File\\\\\"\n",
    "combined_file_path = \"C:\\\\Users\\\\User\\\\Dropbox\\\\SQL Stock Market Data\\\\Delivery Price Combined Files\\\\\"\n",
    "\n",
    "column_order = ['NSE_Code','BSE_Code','Date','NSE_Delivery','BSE_Delivery']\n",
    "\n"
   ]
  },
  {
   "cell_type": "code",
   "execution_count": 2,
   "id": "2e217d7f",
   "metadata": {},
   "outputs": [],
   "source": [
    "#### Lenovo laptop file path\n",
    "\n",
    "master_file_path = \"C:\\\\Users\\\\sarda\\\\Dropbox\\\\SQL Stock Market Data\\\\Python Code from ChatGPT\\\\Master File\\\\CompanyMaster.csv\"\n",
    "directory = \"C:\\\\Users\\\\sarda\\\\Dropbox\\\\Technical Analysis(1)\\\\TradingView\\\\\"  # Replace with the path to your directory\n",
    "output_path = \"C:\\\\Users\\\\sarda\\\\Dropbox\\\\SQL Stock Market Data\\\\Python Code from ChatGPT\\\\Output File\\\\\"\n",
    "master_file_dir = \"C:\\\\Users\\\\sarda\\\\Dropbox\\\\SQL Stock Market Data\\\\Python Code from ChatGPT\\\\Master File\\\\\"\n",
    "\n",
    "\n",
    "combined_file_path = \"C:\\\\Users\\\\sarda\\\\Dropbox\\\\SQL Stock Market Data\\\\Delivery Price Combined Files\\\\\"\n",
    "\n",
    "column_order = ['NSE_Code','BSE_Code','Date','NSE_Delivery','BSE_Delivery']"
   ]
  },
  {
   "cell_type": "code",
   "execution_count": 3,
   "id": "7797f93a",
   "metadata": {},
   "outputs": [],
   "source": [
    "import os\n",
    "import csv\n",
    "import pandas as pd\n",
    "\n"
   ]
  },
  {
   "cell_type": "code",
   "execution_count": 4,
   "id": "f2fdae47",
   "metadata": {},
   "outputs": [],
   "source": [
    "\n",
    "def read_top_csv_file(directory, file_starts_with, num_files=1):\n",
    "    # Get a list of all files in the directory\n",
    "    files = [file for file in os.listdir(directory) if os.path.isfile(os.path.join(directory, file))]\n",
    "\n",
    "    # Filter files based on the specified prefix (case-insensitive)\n",
    "    matching_files = [file for file in files if file.lower().startswith(file_starts_with.lower())]\n",
    "\n",
    "    if not matching_files:\n",
    "        print(f\"No files found starting with '{file_starts_with}'\")\n",
    "        return None\n",
    "\n",
    "    # Sort files based on the file names in descending order\n",
    "    sorted_files = sorted(matching_files, key=lambda x: x.lower(), reverse=True)\n",
    "\n",
    "    # Get the top file with full path\n",
    "    top_file_with_path = os.path.join(directory, sorted_files[0])\n",
    "\n",
    "    # Read the CSV file into a DataFrame\n",
    "    top_dataframe = pd.read_csv(top_file_with_path)\n",
    "\n",
    "    # Return the DataFrame\n",
    "    return top_file_with_path, top_dataframe\n",
    "\n",
    "import pandas as pd\n",
    "\n",
    "def add_nse_prefix(df, column_name):\n",
    "    # Create a copy of the DataFrame to avoid SettingWithCopyWarning\n",
    "    df = df.copy()\n",
    "\n",
    "    # Add \"NSE:\" prefix to the specified column\n",
    "    df.loc[:, column_name] = \"NSE:\" + df[column_name].astype(str)\n",
    "\n",
    "    return df\n",
    "\n"
   ]
  },
  {
   "cell_type": "code",
   "execution_count": 5,
   "id": "1aab93d0",
   "metadata": {},
   "outputs": [],
   "source": [
    "def get_mktcap(scrip_code):\n",
    "    \n",
    "    if type(scrip_code) == int:\n",
    "        #scrip_code = str(scrip_code)\n",
    "        scrip_mktcap_df = mktcap_df[mktcap_df['BSE_Code'] == scrip_code]\n",
    "    else:\n",
    "        scrip_code = scrip_code.upper()\n",
    "        scrip_mktcap_df = mktcap_df[mktcap_df['NSE_Code'] == scrip_code]\n",
    "        \n",
    "    #scrip_mktcap_df.info()\n",
    "    \n",
    "    if not scrip_mktcap_df.empty:\n",
    "        scrip_mktcap = scrip_mktcap_df['Market Capitalization'].values.tolist()\n",
    "        \n",
    "    else:\n",
    "        scrip_mktcap = [0]\n",
    "    \n",
    "    return scrip_mktcap\n",
    "\n",
    "    \n",
    "def replace_nse_code(row):\n",
    "    if pd.isna(row['NSE_Code']) or row['NSE_Code'] == \"\":\n",
    "        return row['BSE_Code']\n",
    "    else:\n",
    "        return row['NSE_Code']"
   ]
  },
  {
   "cell_type": "code",
   "execution_count": 6,
   "id": "ba043d0e",
   "metadata": {},
   "outputs": [],
   "source": [
    "mktcap_file = master_file_dir + \"MarketCap from Screener.csv\"\n",
    "\n",
    "mktcap_df = pd.read_csv(mktcap_file)\n",
    "mktcap_df['BSE Code'] = mktcap_df['BSE Code'].fillna(0)\n",
    "mktcap_df['BSE Code'] = mktcap_df['BSE Code'].astype(int)\n",
    "mktcap_df['NSE Code'] = mktcap_df['NSE Code'].fillna(\"\")\n",
    "\n",
    "mktcap_df.rename(columns= { 'BSE Code' : 'BSE_Code', \n",
    "                          'NSE Code': 'NSE_Code'}, inplace =True)\n",
    "\n",
    "mktcap_df.loc[mktcap_df['NSE_Code'] == \"\", \"NSE_Code\"] = mktcap_df['BSE_Code']\n"
   ]
  },
  {
   "cell_type": "code",
   "execution_count": 7,
   "id": "efa54e7b",
   "metadata": {},
   "outputs": [],
   "source": [
    "# Example usage:\n",
    "directory_path = r'C:\\Users\\sarda\\Dropbox\\Technical Analysis (1)\\TradingView'\n",
    "new_high_file = \"New Highs\"\n",
    "percent_change_file = \"Tradingview\"\n",
    "num_top_files = 1\n",
    "\n",
    "new_high_filename, new_high_df = read_top_csv_file(directory_path, new_high_file, num_top_files)\n",
    "percent_change_filename, percent_change_df = read_top_csv_file(directory_path, percent_change_file, num_top_files)\n",
    "report_date = new_high_filename[68:74]\n",
    "\n"
   ]
  },
  {
   "cell_type": "code",
   "execution_count": 8,
   "id": "252d1b0a",
   "metadata": {},
   "outputs": [],
   "source": [
    "tview_wl_above_500 = output_path + '_' + report_date + \"_0_tview_wl_above_500\" + \".csv\"\n",
    "tview_wl_below_500 = output_path + '_' + report_date + \"_0_tview_wl_below_500\" + \".csv\"\n",
    "\n",
    "new_high_wl = new_high_df[['Ticker']]\n",
    "percent_change_wl = percent_change_df[['Ticker']]\n",
    "\n",
    "new_high_nse_wl = add_nse_prefix (new_high_wl, 'Ticker')\n",
    "percent_change_nse_wl = add_nse_prefix(percent_change_wl, 'Ticker')\n",
    "\n",
    "\n",
    "# Concatenate the two DataFrames vertically (along rows)\n",
    "tradingview_wl = pd.concat([percent_change_nse_wl, new_high_nse_wl], ignore_index=True)\n",
    "\n",
    "## Drop duplicates based on the 'Ticker' column\n",
    "tradingview_wl_unique = tradingview_wl.drop_duplicates(subset=['Ticker'])\n",
    "\n",
    "\n",
    "\n"
   ]
  },
  {
   "cell_type": "code",
   "execution_count": 9,
   "id": "01753986",
   "metadata": {},
   "outputs": [
    {
     "name": "stdout",
     "output_type": "stream",
     "text": [
      "Saved  C:\\Users\\sarda\\Dropbox\\SQL Stock Market Data\\Python Code from ChatGPT\\Output File\\_231227_0_tview_wl_above_500.csv C:\\Users\\sarda\\Dropbox\\SQL Stock Market Data\\Python Code from ChatGPT\\Output File\\_231227_0_tview_wl_below_500.csv\n"
     ]
    }
   ],
   "source": [
    "# Assuming 'tradingview_wl' and 'mktcap_df' are your DataFrames\n",
    "\n",
    "# Step 1: Create a copy of the DataFrame to avoid SettingWithCopyWarning\n",
    "tradingview_wl_copy = tradingview_wl_unique.copy()\n",
    "\n",
    "# Extract ticker symbols and remove \"NSE:\" prefix\n",
    "tradingview_wl_copy['Ticker'] = tradingview_wl_copy['Ticker'].apply(lambda x: x.split(':')[1])\n",
    "\n",
    "# Step 2: Merge DataFrames based on ticker symbols\n",
    "tradingview_wl_copy = pd.merge(tradingview_wl_copy, mktcap_df[['NSE_Code', 'Market Capitalization']], \n",
    "                          how='left', left_on='Ticker', right_on='NSE_Code')\n",
    "\n",
    "# Step 3: Drop unnecessary columns\n",
    "tradingview_wl_copy = tradingview_wl_copy.drop(['NSE_Code'], axis=1)\n",
    "\n",
    "# Split into two DataFrames based on market capitalization\n",
    "tradingview_wl_above_500 = tradingview_wl_copy[tradingview_wl_copy['Market Capitalization'] > 500]\n",
    "tradingview_wl_below_500 = tradingview_wl_copy[tradingview_wl_copy['Market Capitalization'] <= 500]\n",
    "\n",
    "# Drop the \"Market Capitalization\" column from both DataFrames\n",
    "tradingview_wl_above_500 = tradingview_wl_above_500.drop(['Market Capitalization'], axis=1)\n",
    "tradingview_wl_below_500 = tradingview_wl_below_500.drop(['Market Capitalization'], axis=1)\n",
    "\n",
    "# Add \"NSE:\" prefix to ticker symbols\n",
    "tradingview_wl_above_500['Ticker'] = 'NSE:' + tradingview_wl_above_500['Ticker']\n",
    "tradingview_wl_below_500['Ticker'] = 'NSE:' + tradingview_wl_below_500['Ticker']\n",
    "\n",
    "\n",
    "# Save DataFrames to CSV files\n",
    "tradingview_wl_above_500.to_csv(tview_wl_above_500, index=False)\n",
    "tradingview_wl_below_500.to_csv(tview_wl_below_500, index=False)\n",
    "\n",
    "print(\"Saved \", tview_wl_above_500, tview_wl_below_500)\n",
    "\n",
    "# Display the resulting DataFrames\n",
    "#print(tradingview_wl_unique,tradingview_wl_above_500,tradingview_wl_below_500)\n"
   ]
  },
  {
   "cell_type": "code",
   "execution_count": 10,
   "id": "8c8aba34",
   "metadata": {},
   "outputs": [
    {
     "name": "stdout",
     "output_type": "stream",
     "text": [
      "Records with NaN in the 'Market Capitalization' column:\n",
      "          Ticker  Market Capitalization\n",
      "12    AARTIPP.E1                    NaN\n",
      "46         ARE_M                    NaN\n",
      "57      S_SPOWER                    NaN\n",
      "75      ASCOM.ST                    NaN\n",
      "83   GOLDSTAR.ST                    NaN\n",
      "94     IL_FSENGG                    NaN\n",
      "98     GATECHDVR                    NaN\n",
      "129   BAJAJ_AUTO                    NaN\n",
      "161  AIRTELPP.E1                    NaN\n",
      "169   IL_FSTRANS                    NaN\n",
      "208     SURAJEST                    NaN\n",
      "274     MOTISONS                    NaN\n"
     ]
    }
   ],
   "source": [
    "# Identify Tickers in both tradingview_wl_above_500 and tradingview_wl_below_500\n",
    "tickers_above_500 = tradingview_wl_above_500['Ticker']\n",
    "tickers_below_500 = tradingview_wl_below_500['Ticker']\n",
    "\n",
    "# Find records that didn't get copied to either DataFrame\n",
    "not_copied_records = tradingview_wl_copy[~tradingview_wl_copy['Ticker'].isin(tickers_above_500) & ~tradingview_wl_copy['Ticker'].isin(tickers_below_500)]\n",
    "\n",
    "# Display the DataFrame of records that didn't get copied\n",
    "#print(\"Records not copied to either tradingview_wl_above_500 or tradingview_wl_below_500:\")\n",
    "#print(not_copied_records)\n",
    "\n",
    "# Identify records with NaN in the 'Market Capitalization' column\n",
    "nan_records = not_copied_records[not_copied_records['Market Capitalization'].isna()]\n",
    "\n",
    "# Display the DataFrame of records with NaN in the 'Market Capitalization' column\n",
    "print(\"Records with NaN in the 'Market Capitalization' column:\")\n",
    "print(nan_records)\n"
   ]
  },
  {
   "cell_type": "code",
   "execution_count": null,
   "id": "a1fd06c0",
   "metadata": {},
   "outputs": [],
   "source": []
  }
 ],
 "metadata": {
  "kernelspec": {
   "display_name": "Python 3 (ipykernel)",
   "language": "python",
   "name": "python3"
  },
  "language_info": {
   "codemirror_mode": {
    "name": "ipython",
    "version": 3
   },
   "file_extension": ".py",
   "mimetype": "text/x-python",
   "name": "python",
   "nbconvert_exporter": "python",
   "pygments_lexer": "ipython3",
   "version": "3.9.12"
  }
 },
 "nbformat": 4,
 "nbformat_minor": 5
}
