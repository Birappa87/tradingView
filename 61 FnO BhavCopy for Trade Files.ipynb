{
 "cells": [
  {
   "cell_type": "code",
   "execution_count": 1,
   "id": "65df9f8e",
   "metadata": {},
   "outputs": [],
   "source": [
    "import os\n",
    "import csv\n",
    "import pandas as pd"
   ]
  },
  {
   "cell_type": "code",
   "execution_count": 2,
   "id": "201590a5",
   "metadata": {},
   "outputs": [],
   "source": [
    "#directory_path = \"C:\\\\Users\\\\User\\\\Dropbox\\\\SQL Stock Market Data\\\\Data Files\\\\\"  # Replace with the path to your directory\n",
    "#trade_file_path = \"C:\\\\Users\\\\User\\\\Dropbox\\\\TS Personal\\\\Trade Files\\\\\"\n",
    "\n",
    "directory_path = \"C:\\\\Users\\\\sarda\\\\Dropbox\\\\SQL Stock Market Data\\\\Data Files\\\\\"  # Replace with the path to your directory\n",
    "trade_file_path = \"C:\\\\Users\\\\sarda\\\\Dropbox\\\\TS Personal\\\\Trade Files\\\\\""
   ]
  },
  {
   "cell_type": "code",
   "execution_count": 3,
   "id": "7d9be5a5",
   "metadata": {},
   "outputs": [],
   "source": [
    "### file to save \n",
    "\n",
    "bhav_copy = trade_file_path + 'NSE FnO BhavCopy.xlsx'"
   ]
  },
  {
   "cell_type": "code",
   "execution_count": 4,
   "id": "673b5ea4",
   "metadata": {},
   "outputs": [
    {
     "name": "stdout",
     "output_type": "stream",
     "text": [
      "Processing  ['NSE FNO 231226.csv']\n"
     ]
    }
   ],
   "source": [
    "### files to read  NSE FNO latest file from data files\n",
    "\n",
    "nse_fno_file = sorted([file for file in os.listdir(directory_path) if file.startswith('NSE FNO')],reverse=True)[:1]\n",
    "for file_name in nse_fno_file:\n",
    "    file_path = os.path.join(directory_path, file_name)\n",
    "    fno_df = pd.read_csv(file_path)\n",
    "\n",
    "print('Processing ', nse_fno_file)"
   ]
  },
  {
   "cell_type": "code",
   "execution_count": 5,
   "id": "d13b506f",
   "metadata": {},
   "outputs": [],
   "source": [
    "\n",
    "# Assuming fno_df is your DataFrame\n",
    "fno_df['EXPIRY_DT'] = pd.to_datetime(fno_df['EXPIRY_DT'], format='%d-%b-%y')\n",
    "reference_date = pd.to_datetime('1899-12-30')  # Choose a reference date\n",
    "\n",
    "# Calculate the DaySerial column\n",
    "fno_df['DaySerial'] = (fno_df['EXPIRY_DT'] - reference_date).dt.days\n",
    "\n",
    "# Display the updated DataFrame\n"
   ]
  },
  {
   "cell_type": "code",
   "execution_count": 6,
   "id": "95c77106",
   "metadata": {},
   "outputs": [],
   "source": [
    "# Function to generate Code based on conditions\n",
    "def generate_code(row):\n",
    "    if row['OPTION_TYP'].lower() == 'xx':\n",
    "        return f\"{row['SYMBOL']}{int(row['DaySerial'])}XX0\"\n",
    "    else:\n",
    "        return f\"{row['SYMBOL']}{int(row['DaySerial'])}{row['OPTION_TYP'].upper()}{int(row['STRIKE_PR'])}\"\n",
    "\n",
    "# Apply the function to create the 'Code' column\n",
    "fno_df['Code'] = fno_df.apply(generate_code, axis=1)\n",
    "\n",
    "fno_df['close'] = fno_df[\"CLOSE\"]"
   ]
  },
  {
   "cell_type": "code",
   "execution_count": 7,
   "id": "c148e61e",
   "metadata": {},
   "outputs": [
    {
     "name": "stdout",
     "output_type": "stream",
     "text": [
      "DataFrame saved to C:\\Users\\sarda\\Dropbox\\TS Personal\\Trade Files\\NSE FnO BhavCopy.xlsx\n"
     ]
    }
   ],
   "source": [
    "fno_df.to_excel(bhav_copy,index=False, engine='xlsxwriter')\n",
    "print(f\"DataFrame saved to {bhav_copy}\")\n"
   ]
  }
 ],
 "metadata": {
  "kernelspec": {
   "display_name": "Python 3 (ipykernel)",
   "language": "python",
   "name": "python3"
  },
  "language_info": {
   "codemirror_mode": {
    "name": "ipython",
    "version": 3
   },
   "file_extension": ".py",
   "mimetype": "text/x-python",
   "name": "python",
   "nbconvert_exporter": "python",
   "pygments_lexer": "ipython3",
   "version": "3.9.12"
  }
 },
 "nbformat": 4,
 "nbformat_minor": 5
}
