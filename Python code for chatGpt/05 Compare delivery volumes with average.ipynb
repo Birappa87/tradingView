{
 "cells": [
  {
   "cell_type": "code",
   "execution_count": null,
   "metadata": {},
   "outputs": [],
   "source": [
    "##### compare delivery volumes for 5 days for all scrips and highlight scrips with highest volumes compared to average\n",
    "\n"
   ]
  },
  {
   "cell_type": "code",
   "execution_count": 1,
   "metadata": {},
   "outputs": [],
   "source": [
    "###  datapath for lenovo desktop\n",
    "\n",
    "master_file_path = \"C:\\\\Users\\\\User\\\\Dropbox\\\\SQL Stock Market Data\\\\Python Code from ChatGPT\\\\Master File\\\\CompanyMaster.csv\"\n",
    "directory = \"C:\\\\Users\\\\User\\\\Dropbox\\\\SQL Stock Market Data\\\\Data Files\\\\\"  # Replace with the path to your directory\n",
    "\n",
    "output_path = \"C:\\\\Users\\\\User\\\\Dropbox\\\\SQL Stock Market Data\\\\Python Code from ChatGPT\\\\Output File\\\\\"\n",
    "column_order = ['NSE_Code','BSE_Code','Date','NSE_Delivery','BSE_Delivery']\n",
    "\n",
    "non_fno_csv = output_path + '0_non_fno.csv'\n",
    "fno_csv = output_path + 'fno.csv'\n",
    "sme_csv = output_path +'sme_csv.csv'"
   ]
  },
  {
   "cell_type": "code",
   "execution_count": 2,
   "metadata": {},
   "outputs": [
    {
     "name": "stdout",
     "output_type": "stream",
     "text": [
      "processing for : 230929\n"
     ]
    }
   ],
   "source": [
    "import os\n",
    "import csv\n",
    "import pandas as pd\n",
    "\n",
    "\n",
    "nse_dely_file = sorted([file for file in os.listdir(directory) if file.endswith('.csv') and file.startswith('NSE Delivery')], reverse=True)[:1]\n",
    "bse_dely_file = sorted([file for file in os.listdir(directory) if file.endswith('.txt') and file.startswith('BSE Gross Deliverable ')], reverse=True)[:1]\n",
    "\n",
    "nse_price_file = sorted([file for file in os.listdir(directory) if file.lower().endswith(('CSV','.csv')) and file.startswith('NSE EQ')], reverse=True)[:1]\n",
    "bse_price_file = sorted([file for file in os.listdir(directory) if file.lower().endswith(('CSV','csv')) and file.startswith('EQ ISIN')], reverse=True)[:1]\n",
    "\n",
    "nse_fno_file = sorted([file for file in os.listdir(directory) if file.startswith('NSE FNO')],reverse=True)[:1]\n",
    "\n",
    "def extract_date(file_name,start):\n",
    "    \n",
    "    for i in file_name:\n",
    "        end = start + 6\n",
    "        dely_date = i[start:end]\n",
    "        \n",
    "    return dely_date\n",
    "\n",
    "###result_str = str(int(number_str) + 6)\n",
    "\n",
    "nse_dely_date = extract_date(nse_dely_file,13)\n",
    "bse_dely_date = extract_date(bse_dely_file,22)\n",
    "\n",
    "nse_price_date = extract_date(nse_price_file,7)\n",
    "bse_price_date = extract_date(bse_price_file,8)\n",
    "\n",
    "\n",
    "if nse_dely_date != bse_dely_date != nse_price_date != bse_price_date:\n",
    "    print(\"dates dont match\")\n",
    "    print(nse_dely_date, ' ' , bse_dely_date , ' ' , nse_price_date , ' ' , bse_price_date)\n",
    "else:\n",
    "    print(\"processing for :\", nse_dely_date)"
   ]
  },
  {
   "cell_type": "code",
   "execution_count": 4,
   "metadata": {},
   "outputs": [
    {
     "name": "stdout",
     "output_type": "stream",
     "text": [
      "                                      Company Name    NSE_Code BSE_Code\n",
      "0                          Madras Fertilizers Ltd.  MADRASFERT   590134\n",
      "1     The Orissa Minerals Development Company Ltd.  ORISSAMINE   590086\n",
      "2                              Maithan Alloys Ltd.  MAITHANALL   590078\n",
      "3                         Lambodhara Textiles Ltd.  LAMBODHARA   590075\n",
      "4                                Wheels India Ltd.      WHEELS   590073\n",
      "...                                            ...         ...      ...\n",
      "4550                                   Kody Techno    KODYTECH         \n",
      "4551                               Cellcor Gadgets    CELLECOR         \n",
      "4552                                  Marco Cables       MARCO         \n",
      "4553                                HiGreen Carbon     HIGREEN         \n",
      "4554                             Master Components      MASTER         \n",
      "\n",
      "[4555 rows x 3 columns]\n"
     ]
    }
   ],
   "source": [
    "## reading master file\n",
    "### master file (csv) is Company Name\tCD_NSE Symbol\tCD_BSE Code\tCD_Is Subsidiary\tCD_Sector\tCD_Industry1\n",
    "\n",
    "#### TO FIX - MASTER FILE DOES NOT HAVE SM SEGMENT CODES\n",
    "\n",
    "master_file = pd.read_csv(master_file_path, dtype={'CD_BSE Code': str})\n",
    "\n",
    "\n",
    "\n",
    "##df.rename(columns={'old_column_name': 'new_column_name'}, inplace=True)\n",
    "### Inplace method (modifies the original DataFrame)\n",
    "###df.drop(columns=['column1', 'column2'], inplace=True)\n",
    "\n",
    "master_file.drop(columns=['CD_Is Subsidiary','CD_Sector','CD_Industry1'], inplace = True )\n",
    "master_file.rename(columns={'CD_NSE Symbol': 'NSE_Code', 'CD_BSE Code': 'BSE_Code'}, inplace= True )\n",
    "\n",
    "\n",
    "#### master_file df is Company Name\tNSE_Code\tBSE_Code\n",
    "\n",
    "\n",
    "# Identify the data types of each column\n",
    "column_data_types = master_file.dtypes\n",
    "\n",
    "# Replace NaN values in object columns with empty strings (\"\")\n",
    "object_columns = master_file.select_dtypes(include='object').columns\n",
    "master_file[object_columns] = master_file[object_columns].fillna(\"\")\n",
    "\n",
    "# Replace NaN values in float/integer columns with 0\n",
    "numeric_columns = master_file.select_dtypes(include=['float64', 'int64']).columns\n",
    "master_file[numeric_columns] = master_file[numeric_columns].fillna(0)\n",
    "\n",
    "\n",
    "print(master_file)"
   ]
  },
  {
   "cell_type": "code",
   "execution_count": 10,
   "metadata": {},
   "outputs": [
    {
     "name": "stdout",
     "output_type": "stream",
     "text": [
      "['NSE Delivery 230929.csv', 'NSE Delivery 230928.csv', 'NSE Delivery 230927.csv', 'NSE Delivery 230926.csv', 'NSE Delivery 230925.csv', 'NSE Delivery 230922.csv', 'NSE Delivery 230921.csv', 'NSE Delivery 230920.csv', 'NSE Delivery 230918.csv', 'NSE Delivery 230915.csv']\n"
     ]
    }
   ],
   "source": [
    "file_names = sorted([file for file in os.listdir(directory) if file.endswith('.csv') and file.startswith('NSE Delivery')], reverse=True)[:10]\n",
    "print(file_names)"
   ]
  },
  {
   "cell_type": "code",
   "execution_count": null,
   "metadata": {},
   "outputs": [],
   "source": []
  }
 ],
 "metadata": {
  "kernelspec": {
   "display_name": "Python 3",
   "language": "python",
   "name": "python3"
  },
  "language_info": {
   "codemirror_mode": {
    "name": "ipython",
    "version": 3
   },
   "file_extension": ".py",
   "mimetype": "text/x-python",
   "name": "python",
   "nbconvert_exporter": "python",
   "pygments_lexer": "ipython3",
   "version": "3.7.6"
  }
 },
 "nbformat": 4,
 "nbformat_minor": 4
}
