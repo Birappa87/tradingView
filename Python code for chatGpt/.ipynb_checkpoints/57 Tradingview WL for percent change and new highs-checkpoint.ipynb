{
 "cells": [
  {
   "cell_type": "code",
   "execution_count": 1,
   "id": "142b768c",
   "metadata": {},
   "outputs": [],
   "source": [
    "### lenovo desktop file path\n",
    "master_file_path = \"C:\\\\Users\\\\User\\\\Dropbox\\\\SQL Stock Market Data\\\\Python Code from ChatGPT\\\\Master File\\\\CompanyMaster.csv\"\n",
    "directory = \"C:\\\\Users\\\\User\\\\Dropbox\\\\SQL Stock Market Data\\\\Data Files\\\\\"  # Replace with the path to your directory\n",
    "output_path = \"C:\\\\Users\\\\User\\\\Dropbox\\\\SQL Stock Market Data\\\\Python Code from ChatGPT\\\\Output File\\\\\"\n",
    "combined_file_path = \"C:\\\\Users\\\\User\\\\Dropbox\\\\SQL Stock Market Data\\\\Delivery Price Combined Files\\\\\"\n",
    "\n",
    "column_order = ['NSE_Code','BSE_Code','Date','NSE_Delivery','BSE_Delivery']\n",
    "\n"
   ]
  },
  {
   "cell_type": "code",
   "execution_count": 2,
   "id": "2e217d7f",
   "metadata": {},
   "outputs": [],
   "source": [
    "#### Lenovo laptop file path\n",
    "\n",
    "master_file_path = \"C:\\\\Users\\\\sarda\\\\Dropbox\\\\SQL Stock Market Data\\\\Python Code from ChatGPT\\\\Master File\\\\CompanyMaster.csv\"\n",
    "directory = \"C:\\\\Users\\\\sarda\\\\Dropbox\\\\Technical Analysis(1)\\\\TradingView\\\\\"  # Replace with the path to your directory\n",
    "output_path = \"C:\\\\Users\\\\sarda\\\\Dropbox\\\\SQL Stock Market Data\\\\Python Code from ChatGPT\\\\Output File\\\\\"\n",
    "\n",
    "combined_file_path = \"C:\\\\Users\\\\sarda\\\\Dropbox\\\\SQL Stock Market Data\\\\Delivery Price Combined Files\\\\\"\n",
    "\n",
    "column_order = ['NSE_Code','BSE_Code','Date','NSE_Delivery','BSE_Delivery']"
   ]
  },
  {
   "cell_type": "code",
   "execution_count": 3,
   "id": "7797f93a",
   "metadata": {},
   "outputs": [],
   "source": [
    "import os\n",
    "import csv\n",
    "import pandas as pd\n",
    "\n"
   ]
  },
  {
   "cell_type": "code",
   "execution_count": 4,
   "id": "f2fdae47",
   "metadata": {},
   "outputs": [],
   "source": [
    "\n",
    "def read_top_csv_file(directory, file_starts_with, num_files=1):\n",
    "    # Get a list of all files in the directory\n",
    "    files = [file for file in os.listdir(directory) if os.path.isfile(os.path.join(directory, file))]\n",
    "\n",
    "    # Filter files based on the specified prefix (case-insensitive)\n",
    "    matching_files = [file for file in files if file.lower().startswith(file_starts_with.lower())]\n",
    "\n",
    "    if not matching_files:\n",
    "        print(f\"No files found starting with '{file_starts_with}'\")\n",
    "        return None\n",
    "\n",
    "    # Sort files based on the file names in descending order\n",
    "    sorted_files = sorted(matching_files, key=lambda x: x.lower(), reverse=True)\n",
    "\n",
    "    # Get the top file with full path\n",
    "    top_file_with_path = os.path.join(directory, sorted_files[0])\n",
    "\n",
    "    # Read the CSV file into a DataFrame\n",
    "    top_dataframe = pd.read_csv(top_file_with_path)\n",
    "\n",
    "    # Return the DataFrame\n",
    "    return top_file_with_path, top_dataframe\n",
    "\n",
    "import pandas as pd\n",
    "\n",
    "def add_nse_prefix(df, column_name):\n",
    "    # Create a copy of the DataFrame to avoid SettingWithCopyWarning\n",
    "    df = df.copy()\n",
    "\n",
    "    # Add \"NSE:\" prefix to the specified column\n",
    "    df.loc[:, column_name] = \"NSE:\" + df[column_name].astype(str)\n",
    "\n",
    "    return df\n",
    "\n"
   ]
  },
  {
   "cell_type": "code",
   "execution_count": 5,
   "id": "efa54e7b",
   "metadata": {},
   "outputs": [],
   "source": [
    "# Example usage:\n",
    "directory_path = r'C:\\Users\\sarda\\Dropbox\\Technical Analysis (1)\\TradingView'\n",
    "new_high_file = \"New Highs\"\n",
    "percent_change_file = \"Tradingview\"\n",
    "num_top_files = 1\n",
    "\n",
    "new_high_filename, new_high_df = read_top_csv_file(directory_path, new_high_file, num_top_files)\n",
    "percent_change_filename, percent_change_df = read_top_csv_file(directory_path, percent_change_file, num_top_files)\n",
    "report_date = new_high_filename[68:74]\n",
    "\n"
   ]
  },
  {
   "cell_type": "code",
   "execution_count": 6,
   "id": "252d1b0a",
   "metadata": {},
   "outputs": [
    {
     "name": "stdout",
     "output_type": "stream",
     "text": [
      "saved  C:\\Users\\sarda\\Dropbox\\SQL Stock Market Data\\Python Code from ChatGPT\\Output File\\0_tradingview_wl_231214.csv\n"
     ]
    }
   ],
   "source": [
    "tradingview_wl_path = output_path + \"0_tradingview_wl_\" + report_date + \".csv\"\n",
    "\n",
    "new_high_wl = new_high_df[['Ticker']]\n",
    "percent_change_wl = percent_change_df[['Ticker']]\n",
    "\n",
    "new_high_nse_wl = add_nse_prefix (new_high_wl, 'Ticker')\n",
    "percent_change_nse_wl = add_nse_prefix(percent_change_wl, 'Ticker')\n",
    "\n",
    "\n",
    "# Concatenate the two DataFrames vertically (along rows)\n",
    "tradingview_wl = pd.concat([percent_change_nse_wl, new_high_nse_wl], ignore_index=True)\n",
    "\n",
    "## Drop duplicates based on the 'Ticker' column\n",
    "tradingview_wl_unique = tradingview_wl.drop_duplicates(subset=['Ticker'])\n",
    "\n",
    "# Now you have the unique combined watchlist in tradingview_wl_unique\n",
    "# You can save it to a CSV file if needed\n",
    "tradingview_wl_unique.to_csv(tradingview_wl_path, index=False)\n",
    "\n",
    "print(\"saved \", tradingview_wl_path)"
   ]
  }
 ],
 "metadata": {
  "kernelspec": {
   "display_name": "Python 3 (ipykernel)",
   "language": "python",
   "name": "python3"
  },
  "language_info": {
   "codemirror_mode": {
    "name": "ipython",
    "version": 3
   },
   "file_extension": ".py",
   "mimetype": "text/x-python",
   "name": "python",
   "nbconvert_exporter": "python",
   "pygments_lexer": "ipython3",
   "version": "3.9.12"
  }
 },
 "nbformat": 4,
 "nbformat_minor": 5
}
