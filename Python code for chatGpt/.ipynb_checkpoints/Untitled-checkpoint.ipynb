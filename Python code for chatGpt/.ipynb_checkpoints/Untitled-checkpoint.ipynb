{
 "cells": [
  {
   "cell_type": "code",
   "execution_count": 18,
   "id": "77999af4",
   "metadata": {},
   "outputs": [
    {
     "name": "stdout",
     "output_type": "stream",
     "text": [
      "RELIANCE Market Cap: Error fetching data for RELIANCE: HTTP Error 301: The HTTP server returned a redirect error that would lead to an infinite loop.\n",
      "The last 30x error message was:\n",
      "Moved Permanently\n",
      "SBIN Market Cap: Error fetching data for SBIN: HTTP Error 301: The HTTP server returned a redirect error that would lead to an infinite loop.\n",
      "The last 30x error message was:\n",
      "Moved Permanently\n",
      "517035 Market Cap: Error fetching data for 517035: HTTP Error 301: The HTTP server returned a redirect error that would lead to an infinite loop.\n",
      "The last 30x error message was:\n",
      "Moved Permanently\n",
      "Reliance Market Cap: Error fetching data for RELIANCE: HTTP Error 301: The HTTP server returned a redirect error that would lead to an infinite loop.\n",
      "The last 30x error message was:\n",
      "Moved Permanently\n"
     ]
    }
   ],
   "source": [
    "from nsetools import Nse\n",
    "\n",
    "# List of Indian stock symbols\n",
    "stock_symbols = ['RELIANCE', 'SBIN', '517035']\n",
    "\n",
    "# Initialize NSE object\n",
    "nse = Nse()\n",
    "\n",
    "# Function to get market cap for a stock symbol\n",
    "def get_market_cap(stock_symbol):\n",
    "    try:\n",
    "        quote = nse.get_quote(stock_symbol)\n",
    "        if 'marketCap' in quote:\n",
    "            return quote['marketCap']\n",
    "        else:\n",
    "            return 'Market cap not available for {}'.format(stock_symbol)\n",
    "    except Exception as e:\n",
    "        return f\"Error fetching data for {stock_symbol}: {str(e)}\"\n",
    "\n",
    "# Get market caps for the specified stocks\n",
    "market_caps = {symbol: get_market_cap(symbol) for symbol in stock_symbols}\n",
    "\n",
    "# Print the market caps\n",
    "for symbol, market_cap in market_caps.items():\n",
    "    print(f'{symbol} Market Cap: {market_cap}')\n",
    "\n",
    "# Example of accessing market cap for 'RELIANCE'\n",
    "reliance_market_cap = market_caps['RELIANCE']\n",
    "print(f'Reliance Market Cap: {reliance_market_cap}')\n"
   ]
  },
  {
   "cell_type": "code",
   "execution_count": 5,
   "id": "5dd76ae3",
   "metadata": {},
   "outputs": [
    {
     "ename": "ValueError",
     "evalue": "Error getting data from the api, no return was given.",
     "output_type": "error",
     "traceback": [
      "\u001b[1;31m---------------------------------------------------------------------------\u001b[0m",
      "\u001b[1;31mValueError\u001b[0m                                Traceback (most recent call last)",
      "Input \u001b[1;32mIn [5]\u001b[0m, in \u001b[0;36m<cell line: 2>\u001b[1;34m()\u001b[0m\n\u001b[0;32m      1\u001b[0m ts \u001b[38;5;241m=\u001b[39m TimeSeries(api_key, output_format\u001b[38;5;241m=\u001b[39m\u001b[38;5;124m'\u001b[39m\u001b[38;5;124mpandas\u001b[39m\u001b[38;5;124m'\u001b[39m)\n\u001b[1;32m----> 2\u001b[0m data, meta \u001b[38;5;241m=\u001b[39m \u001b[43mts\u001b[49m\u001b[38;5;241;43m.\u001b[39;49m\u001b[43mget_intraday\u001b[49m\u001b[43m(\u001b[49m\u001b[38;5;124;43m'\u001b[39;49m\u001b[38;5;124;43mNSE:sbin\u001b[39;49m\u001b[38;5;124;43m'\u001b[39;49m\u001b[43m,\u001b[49m\u001b[43m \u001b[49m\u001b[43minterval\u001b[49m\u001b[38;5;241;43m=\u001b[39;49m\u001b[38;5;124;43m'\u001b[39;49m\u001b[38;5;124;43m1min\u001b[39;49m\u001b[38;5;124;43m'\u001b[39;49m\u001b[43m,\u001b[49m\u001b[43m \u001b[49m\u001b[43moutputsize\u001b[49m\u001b[38;5;241;43m=\u001b[39;49m\u001b[38;5;124;43m'\u001b[39;49m\u001b[38;5;124;43mfull\u001b[39;49m\u001b[38;5;124;43m'\u001b[39;49m\u001b[43m)\u001b[49m\n\u001b[0;32m      3\u001b[0m meta\n",
      "File \u001b[1;32mC:\\ProgramData\\Anaconda3\\lib\\site-packages\\alpha_vantage\\alphavantage.py:218\u001b[0m, in \u001b[0;36mAlphaVantage._output_format.<locals>._format_wrapper\u001b[1;34m(self, *args, **kwargs)\u001b[0m\n\u001b[0;32m    216\u001b[0m \u001b[38;5;129m@wraps\u001b[39m(func)\n\u001b[0;32m    217\u001b[0m \u001b[38;5;28;01mdef\u001b[39;00m \u001b[38;5;21m_format_wrapper\u001b[39m(\u001b[38;5;28mself\u001b[39m, \u001b[38;5;241m*\u001b[39margs, \u001b[38;5;241m*\u001b[39m\u001b[38;5;241m*\u001b[39mkwargs):\n\u001b[1;32m--> 218\u001b[0m     call_response, data_key, meta_data_key \u001b[38;5;241m=\u001b[39m func(\n\u001b[0;32m    219\u001b[0m         \u001b[38;5;28mself\u001b[39m, \u001b[38;5;241m*\u001b[39margs, \u001b[38;5;241m*\u001b[39m\u001b[38;5;241m*\u001b[39mkwargs)\n\u001b[0;32m    220\u001b[0m     \u001b[38;5;28;01mif\u001b[39;00m \u001b[38;5;124m'\u001b[39m\u001b[38;5;124mjson\u001b[39m\u001b[38;5;124m'\u001b[39m \u001b[38;5;129;01min\u001b[39;00m \u001b[38;5;28mself\u001b[39m\u001b[38;5;241m.\u001b[39moutput_format\u001b[38;5;241m.\u001b[39mlower() \u001b[38;5;129;01mor\u001b[39;00m \u001b[38;5;124m'\u001b[39m\u001b[38;5;124mpandas\u001b[39m\u001b[38;5;124m'\u001b[39m \\\n\u001b[0;32m    221\u001b[0m             \u001b[38;5;129;01min\u001b[39;00m \u001b[38;5;28mself\u001b[39m\u001b[38;5;241m.\u001b[39moutput_format\u001b[38;5;241m.\u001b[39mlower():\n\u001b[0;32m    222\u001b[0m         \u001b[38;5;28;01mif\u001b[39;00m data_key \u001b[38;5;129;01mis\u001b[39;00m \u001b[38;5;129;01mnot\u001b[39;00m \u001b[38;5;28;01mNone\u001b[39;00m:\n",
      "File \u001b[1;32mC:\\ProgramData\\Anaconda3\\lib\\site-packages\\alpha_vantage\\alphavantage.py:160\u001b[0m, in \u001b[0;36mAlphaVantage._call_api_on_func.<locals>._call_wrapper\u001b[1;34m(self, *args, **kwargs)\u001b[0m\n\u001b[0;32m    158\u001b[0m \u001b[38;5;28;01melse\u001b[39;00m:\n\u001b[0;32m    159\u001b[0m     url \u001b[38;5;241m=\u001b[39m \u001b[38;5;124m'\u001b[39m\u001b[38;5;132;01m{}\u001b[39;00m\u001b[38;5;132;01m{}\u001b[39;00m\u001b[38;5;124m'\u001b[39m\u001b[38;5;241m.\u001b[39mformat(url, apikey_parameter)\n\u001b[1;32m--> 160\u001b[0m \u001b[38;5;28;01mreturn\u001b[39;00m \u001b[38;5;28;43mself\u001b[39;49m\u001b[38;5;241;43m.\u001b[39;49m\u001b[43m_handle_api_call\u001b[49m\u001b[43m(\u001b[49m\u001b[43murl\u001b[49m\u001b[43m)\u001b[49m, data_key, meta_data_key\n",
      "File \u001b[1;32mC:\\ProgramData\\Anaconda3\\lib\\site-packages\\alpha_vantage\\alphavantage.py:356\u001b[0m, in \u001b[0;36mAlphaVantage._handle_api_call\u001b[1;34m(self, url)\u001b[0m\n\u001b[0;32m    354\u001b[0m json_response \u001b[38;5;241m=\u001b[39m response\u001b[38;5;241m.\u001b[39mjson()\n\u001b[0;32m    355\u001b[0m \u001b[38;5;28;01mif\u001b[39;00m \u001b[38;5;129;01mnot\u001b[39;00m json_response:\n\u001b[1;32m--> 356\u001b[0m     \u001b[38;5;28;01mraise\u001b[39;00m \u001b[38;5;167;01mValueError\u001b[39;00m(\n\u001b[0;32m    357\u001b[0m         \u001b[38;5;124m'\u001b[39m\u001b[38;5;124mError getting data from the api, no return was given.\u001b[39m\u001b[38;5;124m'\u001b[39m)\n\u001b[0;32m    358\u001b[0m \u001b[38;5;28;01melif\u001b[39;00m \u001b[38;5;124m\"\u001b[39m\u001b[38;5;124mError Message\u001b[39m\u001b[38;5;124m\"\u001b[39m \u001b[38;5;129;01min\u001b[39;00m json_response:\n\u001b[0;32m    359\u001b[0m     \u001b[38;5;28;01mraise\u001b[39;00m \u001b[38;5;167;01mValueError\u001b[39;00m(json_response[\u001b[38;5;124m\"\u001b[39m\u001b[38;5;124mError Message\u001b[39m\u001b[38;5;124m\"\u001b[39m])\n",
      "\u001b[1;31mValueError\u001b[0m: Error getting data from the api, no return was given."
     ]
    }
   ],
   "source": [
    "ts = TimeSeries(api_key, output_format='pandas')\n",
    "data, meta = ts.get_intraday('NSE:sbin', interval='1min', outputsize='full')\n",
    "meta"
   ]
  },
  {
   "cell_type": "code",
   "execution_count": 1,
   "id": "497254c4",
   "metadata": {},
   "outputs": [
    {
     "ename": "AttributeError",
     "evalue": "module 'alpha_vantage' has no attribute 'exceptions'",
     "output_type": "error",
     "traceback": [
      "\u001b[1;31m---------------------------------------------------------------------------\u001b[0m",
      "\u001b[1;31mValueError\u001b[0m                                Traceback (most recent call last)",
      "Input \u001b[1;32mIn [1]\u001b[0m, in \u001b[0;36mget_market_cap\u001b[1;34m(stock_symbol)\u001b[0m\n\u001b[0;32m     18\u001b[0m \u001b[38;5;28;01mtry\u001b[39;00m:\n\u001b[1;32m---> 19\u001b[0m     data, _ \u001b[38;5;241m=\u001b[39m \u001b[43mts\u001b[49m\u001b[38;5;241;43m.\u001b[39;49m\u001b[43mget_quote_endpoint\u001b[49m\u001b[43m(\u001b[49m\u001b[43msymbol\u001b[49m\u001b[38;5;241;43m=\u001b[39;49m\u001b[43mstock_symbol\u001b[49m\u001b[43m)\u001b[49m\n\u001b[0;32m     20\u001b[0m     \u001b[38;5;28;01mif\u001b[39;00m \u001b[38;5;124m'\u001b[39m\u001b[38;5;124mMarketCapitalization\u001b[39m\u001b[38;5;124m'\u001b[39m \u001b[38;5;129;01min\u001b[39;00m data:\n",
      "File \u001b[1;32mC:\\ProgramData\\Anaconda3\\lib\\site-packages\\alpha_vantage\\alphavantage.py:218\u001b[0m, in \u001b[0;36mAlphaVantage._output_format.<locals>._format_wrapper\u001b[1;34m(self, *args, **kwargs)\u001b[0m\n\u001b[0;32m    216\u001b[0m \u001b[38;5;129m@wraps\u001b[39m(func)\n\u001b[0;32m    217\u001b[0m \u001b[38;5;28;01mdef\u001b[39;00m \u001b[38;5;21m_format_wrapper\u001b[39m(\u001b[38;5;28mself\u001b[39m, \u001b[38;5;241m*\u001b[39margs, \u001b[38;5;241m*\u001b[39m\u001b[38;5;241m*\u001b[39mkwargs):\n\u001b[1;32m--> 218\u001b[0m     call_response, data_key, meta_data_key \u001b[38;5;241m=\u001b[39m func(\n\u001b[0;32m    219\u001b[0m         \u001b[38;5;28mself\u001b[39m, \u001b[38;5;241m*\u001b[39margs, \u001b[38;5;241m*\u001b[39m\u001b[38;5;241m*\u001b[39mkwargs)\n\u001b[0;32m    220\u001b[0m     \u001b[38;5;28;01mif\u001b[39;00m \u001b[38;5;124m'\u001b[39m\u001b[38;5;124mjson\u001b[39m\u001b[38;5;124m'\u001b[39m \u001b[38;5;129;01min\u001b[39;00m \u001b[38;5;28mself\u001b[39m\u001b[38;5;241m.\u001b[39moutput_format\u001b[38;5;241m.\u001b[39mlower() \u001b[38;5;129;01mor\u001b[39;00m \u001b[38;5;124m'\u001b[39m\u001b[38;5;124mpandas\u001b[39m\u001b[38;5;124m'\u001b[39m \\\n\u001b[0;32m    221\u001b[0m             \u001b[38;5;129;01min\u001b[39;00m \u001b[38;5;28mself\u001b[39m\u001b[38;5;241m.\u001b[39moutput_format\u001b[38;5;241m.\u001b[39mlower():\n",
      "File \u001b[1;32mC:\\ProgramData\\Anaconda3\\lib\\site-packages\\alpha_vantage\\alphavantage.py:160\u001b[0m, in \u001b[0;36mAlphaVantage._call_api_on_func.<locals>._call_wrapper\u001b[1;34m(self, *args, **kwargs)\u001b[0m\n\u001b[0;32m    159\u001b[0m     url \u001b[38;5;241m=\u001b[39m \u001b[38;5;124m'\u001b[39m\u001b[38;5;132;01m{}\u001b[39;00m\u001b[38;5;132;01m{}\u001b[39;00m\u001b[38;5;124m'\u001b[39m\u001b[38;5;241m.\u001b[39mformat(url, apikey_parameter)\n\u001b[1;32m--> 160\u001b[0m \u001b[38;5;28;01mreturn\u001b[39;00m \u001b[38;5;28;43mself\u001b[39;49m\u001b[38;5;241;43m.\u001b[39;49m\u001b[43m_handle_api_call\u001b[49m\u001b[43m(\u001b[49m\u001b[43murl\u001b[49m\u001b[43m)\u001b[49m, data_key, meta_data_key\n",
      "File \u001b[1;32mC:\\ProgramData\\Anaconda3\\lib\\site-packages\\alpha_vantage\\alphavantage.py:356\u001b[0m, in \u001b[0;36mAlphaVantage._handle_api_call\u001b[1;34m(self, url)\u001b[0m\n\u001b[0;32m    355\u001b[0m \u001b[38;5;28;01mif\u001b[39;00m \u001b[38;5;129;01mnot\u001b[39;00m json_response:\n\u001b[1;32m--> 356\u001b[0m     \u001b[38;5;28;01mraise\u001b[39;00m \u001b[38;5;167;01mValueError\u001b[39;00m(\n\u001b[0;32m    357\u001b[0m         \u001b[38;5;124m'\u001b[39m\u001b[38;5;124mError getting data from the api, no return was given.\u001b[39m\u001b[38;5;124m'\u001b[39m)\n\u001b[0;32m    358\u001b[0m \u001b[38;5;28;01melif\u001b[39;00m \u001b[38;5;124m\"\u001b[39m\u001b[38;5;124mError Message\u001b[39m\u001b[38;5;124m\"\u001b[39m \u001b[38;5;129;01min\u001b[39;00m json_response:\n",
      "\u001b[1;31mValueError\u001b[0m: Error getting data from the api, no return was given.",
      "\nDuring handling of the above exception, another exception occurred:\n",
      "\u001b[1;31mAttributeError\u001b[0m                            Traceback (most recent call last)",
      "Input \u001b[1;32mIn [1]\u001b[0m, in \u001b[0;36m<cell line: 28>\u001b[1;34m()\u001b[0m\n\u001b[0;32m     25\u001b[0m         \u001b[38;5;28;01mreturn\u001b[39;00m \u001b[38;5;124mf\u001b[39m\u001b[38;5;124m\"\u001b[39m\u001b[38;5;124mError fetching data for \u001b[39m\u001b[38;5;132;01m{\u001b[39;00mstock_symbol\u001b[38;5;132;01m}\u001b[39;00m\u001b[38;5;124m: \u001b[39m\u001b[38;5;132;01m{\u001b[39;00me\u001b[38;5;132;01m}\u001b[39;00m\u001b[38;5;124m\"\u001b[39m\n\u001b[0;32m     27\u001b[0m \u001b[38;5;66;03m# Get market caps for the specified stocks\u001b[39;00m\n\u001b[1;32m---> 28\u001b[0m market_caps \u001b[38;5;241m=\u001b[39m {symbol: get_market_cap(symbol) \u001b[38;5;28;01mfor\u001b[39;00m symbol \u001b[38;5;129;01min\u001b[39;00m stock_symbols}\n\u001b[0;32m     30\u001b[0m \u001b[38;5;66;03m# Print the market caps\u001b[39;00m\n\u001b[0;32m     31\u001b[0m \u001b[38;5;28;01mfor\u001b[39;00m symbol, market_cap \u001b[38;5;129;01min\u001b[39;00m market_caps\u001b[38;5;241m.\u001b[39mitems():\n",
      "Input \u001b[1;32mIn [1]\u001b[0m, in \u001b[0;36m<dictcomp>\u001b[1;34m(.0)\u001b[0m\n\u001b[0;32m     25\u001b[0m         \u001b[38;5;28;01mreturn\u001b[39;00m \u001b[38;5;124mf\u001b[39m\u001b[38;5;124m\"\u001b[39m\u001b[38;5;124mError fetching data for \u001b[39m\u001b[38;5;132;01m{\u001b[39;00mstock_symbol\u001b[38;5;132;01m}\u001b[39;00m\u001b[38;5;124m: \u001b[39m\u001b[38;5;132;01m{\u001b[39;00me\u001b[38;5;132;01m}\u001b[39;00m\u001b[38;5;124m\"\u001b[39m\n\u001b[0;32m     27\u001b[0m \u001b[38;5;66;03m# Get market caps for the specified stocks\u001b[39;00m\n\u001b[1;32m---> 28\u001b[0m market_caps \u001b[38;5;241m=\u001b[39m {symbol: \u001b[43mget_market_cap\u001b[49m\u001b[43m(\u001b[49m\u001b[43msymbol\u001b[49m\u001b[43m)\u001b[49m \u001b[38;5;28;01mfor\u001b[39;00m symbol \u001b[38;5;129;01min\u001b[39;00m stock_symbols}\n\u001b[0;32m     30\u001b[0m \u001b[38;5;66;03m# Print the market caps\u001b[39;00m\n\u001b[0;32m     31\u001b[0m \u001b[38;5;28;01mfor\u001b[39;00m symbol, market_cap \u001b[38;5;129;01min\u001b[39;00m market_caps\u001b[38;5;241m.\u001b[39mitems():\n",
      "Input \u001b[1;32mIn [1]\u001b[0m, in \u001b[0;36mget_market_cap\u001b[1;34m(stock_symbol)\u001b[0m\n\u001b[0;32m     22\u001b[0m     \u001b[38;5;28;01melse\u001b[39;00m:\n\u001b[0;32m     23\u001b[0m         \u001b[38;5;28;01mreturn\u001b[39;00m \u001b[38;5;124m'\u001b[39m\u001b[38;5;124mMarket cap not available for \u001b[39m\u001b[38;5;132;01m{}\u001b[39;00m\u001b[38;5;124m'\u001b[39m\u001b[38;5;241m.\u001b[39mformat(stock_symbol)\n\u001b[1;32m---> 24\u001b[0m \u001b[38;5;28;01mexcept\u001b[39;00m \u001b[43malpha_vantage\u001b[49m\u001b[38;5;241;43m.\u001b[39;49m\u001b[43mexceptions\u001b[49m\u001b[38;5;241m.\u001b[39mAlphaVantageAPIError \u001b[38;5;28;01mas\u001b[39;00m e:\n\u001b[0;32m     25\u001b[0m     \u001b[38;5;28;01mreturn\u001b[39;00m \u001b[38;5;124mf\u001b[39m\u001b[38;5;124m\"\u001b[39m\u001b[38;5;124mError fetching data for \u001b[39m\u001b[38;5;132;01m{\u001b[39;00mstock_symbol\u001b[38;5;132;01m}\u001b[39;00m\u001b[38;5;124m: \u001b[39m\u001b[38;5;132;01m{\u001b[39;00me\u001b[38;5;132;01m}\u001b[39;00m\u001b[38;5;124m\"\u001b[39m\n",
      "\u001b[1;31mAttributeError\u001b[0m: module 'alpha_vantage' has no attribute 'exceptions'"
     ]
    }
   ],
   "source": [
    "api_key = \"QWU5WOPQ0LN2VODB\"\n",
    "\n",
    "import alpha_vantage\n",
    "from alpha_vantage.timeseries import TimeSeries\n",
    "\n",
    "# Replace 'YOUR_API_KEY' with your actual Alpha Vantage API key\n",
    "api_key = 'YOUR_API_KEY'\n",
    "api_key = \"QWU5WOPQ0LN2VODB\"\n",
    "\n",
    "# List of Indian stock symbols\n",
    "stock_symbols = ['NSE:RELIANCE', 'NSE:SBIN', 'BSE:RIR']\n",
    "\n",
    "# Initialize the Alpha Vantage API client\n",
    "ts = TimeSeries(key=api_key, output_format='pandas')\n",
    "\n",
    "# Function to get market cap for a stock symbol\n",
    "def get_market_cap(stock_symbol):\n",
    "    try:\n",
    "        data, _ = ts.get_quote_endpoint(symbol=stock_symbol)\n",
    "        if 'MarketCapitalization' in data:\n",
    "            return data['MarketCapitalization']\n",
    "        else:\n",
    "            return 'Market cap not available for {}'.format(stock_symbol)\n",
    "    except alpha_vantage.exceptions.AlphaVantageAPIError as e:\n",
    "        return f\"Error fetching data for {stock_symbol}: {e}\"\n",
    "\n",
    "# Get market caps for the specified stocks\n",
    "market_caps = {symbol: get_market_cap(symbol) for symbol in stock_symbols}\n",
    "\n",
    "# Print the market caps\n",
    "for symbol, market_cap in market_caps.items():\n",
    "    print(f'{symbol} Market Cap: {market_cap}')\n",
    "\n",
    "# Example of accessing market cap for 'RELIANCE'\n",
    "reliance_market_cap = market_caps['NSE:RELIANCE']\n",
    "print(f'Reliance Market Cap: {reliance_market_cap}')\n"
   ]
  },
  {
   "cell_type": "code",
   "execution_count": 15,
   "id": "c050be40",
   "metadata": {},
   "outputs": [
    {
     "ename": "AttributeError",
     "evalue": "'Index' object has no attribute 'tz_localize'",
     "output_type": "error",
     "traceback": [
      "\u001b[1;31m---------------------------------------------------------------------------\u001b[0m",
      "\u001b[1;31mAttributeError\u001b[0m                            Traceback (most recent call last)",
      "Input \u001b[1;32mIn [15]\u001b[0m, in \u001b[0;36m<cell line: 9>\u001b[1;34m()\u001b[0m\n\u001b[0;32m      6\u001b[0m msft\u001b[38;5;241m.\u001b[39minfo\n\u001b[0;32m      8\u001b[0m \u001b[38;5;66;03m# get historical market data\u001b[39;00m\n\u001b[1;32m----> 9\u001b[0m hist \u001b[38;5;241m=\u001b[39m \u001b[43mmsft\u001b[49m\u001b[38;5;241;43m.\u001b[39;49m\u001b[43mhistory\u001b[49m\u001b[43m(\u001b[49m\u001b[43mperiod\u001b[49m\u001b[38;5;241;43m=\u001b[39;49m\u001b[38;5;124;43m\"\u001b[39;49m\u001b[38;5;124;43m1mo\u001b[39;49m\u001b[38;5;124;43m\"\u001b[39;49m\u001b[43m)\u001b[49m\n\u001b[0;32m     11\u001b[0m \u001b[38;5;66;03m# show meta information about the history (requires history() to be called first)\u001b[39;00m\n\u001b[0;32m     12\u001b[0m msft\u001b[38;5;241m.\u001b[39mhistory_metadata\n",
      "File \u001b[1;32m~\\AppData\\Roaming\\Python\\Python39\\site-packages\\yfinance\\base.py:247\u001b[0m, in \u001b[0;36mTickerBase.history\u001b[1;34m(self, period, interval, start, end, prepost, actions, auto_adjust, back_adjust, proxy, rounding, tz, **kwargs)\u001b[0m\n\u001b[0;32m    244\u001b[0m df[\u001b[38;5;124m\"\u001b[39m\u001b[38;5;124mStock Splits\u001b[39m\u001b[38;5;124m\"\u001b[39m]\u001b[38;5;241m.\u001b[39mfillna(\u001b[38;5;241m0\u001b[39m, inplace\u001b[38;5;241m=\u001b[39m\u001b[38;5;28;01mTrue\u001b[39;00m)\n\u001b[0;32m    246\u001b[0m \u001b[38;5;66;03m# index eod/intraday\u001b[39;00m\n\u001b[1;32m--> 247\u001b[0m df\u001b[38;5;241m.\u001b[39mindex \u001b[38;5;241m=\u001b[39m \u001b[43mdf\u001b[49m\u001b[38;5;241;43m.\u001b[39;49m\u001b[43mindex\u001b[49m\u001b[38;5;241;43m.\u001b[39;49m\u001b[43mtz_localize\u001b[49m(\u001b[38;5;124m\"\u001b[39m\u001b[38;5;124mUTC\u001b[39m\u001b[38;5;124m\"\u001b[39m)\u001b[38;5;241m.\u001b[39mtz_convert(\n\u001b[0;32m    248\u001b[0m     data[\u001b[38;5;124m\"\u001b[39m\u001b[38;5;124mchart\u001b[39m\u001b[38;5;124m\"\u001b[39m][\u001b[38;5;124m\"\u001b[39m\u001b[38;5;124mresult\u001b[39m\u001b[38;5;124m\"\u001b[39m][\u001b[38;5;241m0\u001b[39m][\u001b[38;5;124m\"\u001b[39m\u001b[38;5;124mmeta\u001b[39m\u001b[38;5;124m\"\u001b[39m][\u001b[38;5;124m\"\u001b[39m\u001b[38;5;124mexchangeTimezoneName\u001b[39m\u001b[38;5;124m\"\u001b[39m])\n\u001b[0;32m    250\u001b[0m \u001b[38;5;28;01mif\u001b[39;00m params[\u001b[38;5;124m\"\u001b[39m\u001b[38;5;124minterval\u001b[39m\u001b[38;5;124m\"\u001b[39m][\u001b[38;5;241m-\u001b[39m\u001b[38;5;241m1\u001b[39m] \u001b[38;5;241m==\u001b[39m \u001b[38;5;124m\"\u001b[39m\u001b[38;5;124mm\u001b[39m\u001b[38;5;124m\"\u001b[39m:\n\u001b[0;32m    251\u001b[0m     df\u001b[38;5;241m.\u001b[39mindex\u001b[38;5;241m.\u001b[39mname \u001b[38;5;241m=\u001b[39m \u001b[38;5;124m\"\u001b[39m\u001b[38;5;124mDatetime\u001b[39m\u001b[38;5;124m\"\u001b[39m\n",
      "\u001b[1;31mAttributeError\u001b[0m: 'Index' object has no attribute 'tz_localize'"
     ]
    }
   ],
   "source": [
    "import yfinance as yf\n",
    "\n",
    "msft = yf.Ticker(\"MSFT\")\n",
    "\n",
    "# get all stock info\n",
    "msft.info\n",
    "\n",
    "# get historical market data\n",
    "hist = msft.history(period=\"1mo\")\n",
    "\n",
    "# show meta information about the history (requires history() to be called first)\n",
    "msft.history_metadata\n",
    "\n",
    "# show actions (dividends, splits, capital gains)\n",
    "msft.actions\n",
    "msft.dividends\n",
    "msft.splits\n",
    "msft.capital_gains  # only for mutual funds & etfs\n",
    "\n",
    "# show share count\n",
    "msft.get_shares_full(start=\"2022-01-01\", end=None)\n",
    "\n",
    "# show financials:\n",
    "# - income statement\n",
    "msft.income_stmt\n",
    "msft.quarterly_income_stmt\n",
    "# - balance sheet\n",
    "msft.balance_sheet\n",
    "msft.quarterly_balance_sheet\n",
    "# - cash flow statement\n",
    "msft.cashflow\n",
    "msft.quarterly_cashflow\n",
    "# see `Ticker.get_income_stmt()` for more options\n",
    "\n",
    "# show holders\n",
    "msft.major_holders\n",
    "msft.institutional_holders\n",
    "msft.mutualfund_holders\n",
    "\n",
    "# Show future and historic earnings dates, returns at most next 4 quarters and last 8 quarters by default. \n",
    "# Note: If more are needed use msft.get_earnings_dates(limit=XX) with increased limit argument.\n",
    "msft.earnings_dates\n",
    "\n",
    "# show ISIN code - *experimental*\n",
    "# ISIN = International Securities Identification Number\n",
    "msft.isin\n",
    "\n",
    "# show options expirations\n",
    "msft.options\n",
    "\n",
    "# show news\n",
    "msft.news\n",
    "\n",
    "# get option chain for specific expiration\n",
    "opt = msft.option_chain('YYYY-MM-DD')\n",
    "# data available via: opt.calls, opt.puts"
   ]
  },
  {
   "cell_type": "code",
   "execution_count": 14,
   "id": "63d34f6a",
   "metadata": {},
   "outputs": [
    {
     "name": "stdout",
     "output_type": "stream",
     "text": [
      "Market cap not found on the page.\n"
     ]
    }
   ],
   "source": [
    "import requests\n",
    "from bs4 import BeautifulSoup\n",
    "\n",
    "def get_market_cap(stock_symbol):\n",
    "    try:\n",
    "        # Construct the URL for Microsoft's finance page for the stock\n",
    "        url = f\"https://www.microsoft.com/en-us/microsoft-365/microsoft-stock/history?stocksymbol={stock_symbol}\"\n",
    "\n",
    "        # Send an HTTP GET request to the URL\n",
    "        response = requests.get(url)\n",
    "\n",
    "        # Check if the request was successful\n",
    "        if response.status_code == 200:\n",
    "            # Parse the HTML content of the page\n",
    "            soup = BeautifulSoup(response.text, 'html.parser')\n",
    "\n",
    "            # Find the market cap value on the page\n",
    "            market_cap_element = soup.find(\"div\", {\"class\": \"market-cap\"})\n",
    "\n",
    "            if market_cap_element:\n",
    "                market_cap = market_cap_element.text.strip()\n",
    "                return market_cap\n",
    "            else:\n",
    "                print(\"Market cap not found on the page.\")\n",
    "        else:\n",
    "            print(\"Failed to retrieve data. Check the stock symbol and try again.\")\n",
    "    except Exception as e:\n",
    "        print(f\"An error occurred: {e}\")\n",
    "    return None\n",
    "\n",
    "# Example usage:\n",
    "stock_symbol = \"MSFT\"\n",
    "market_cap = get_market_cap(stock_symbol)\n",
    "if market_cap:\n",
    "    print(f\"Market cap of {stock_symbol}: {market_cap}\")\n"
   ]
  },
  {
   "cell_type": "code",
   "execution_count": 13,
   "id": "6f9d2799",
   "metadata": {},
   "outputs": [
    {
     "name": "stdout",
     "output_type": "stream",
     "text": [
      "Failed to retrieve data. Check the stock symbol and try again.\n"
     ]
    }
   ],
   "source": [
    "import requests\n",
    "from bs4 import BeautifulSoup\n",
    "\n",
    "# Function to get the market cap of a stock from NSE website\n",
    "def get_market_cap(stock_symbol):\n",
    "    try:\n",
    "        # URL for NSE stock details\n",
    "        url = f\"https://www.moneycontrol.com/financials/{stock_symbol}/market-capitalisation/MC\"\n",
    "\n",
    "        # Send an HTTP GET request to the URL\n",
    "        response = requests.get(url)\n",
    "\n",
    "        # Check if the request was successful\n",
    "        if response.status_code == 200:\n",
    "            # Parse the HTML content of the page\n",
    "            soup = BeautifulSoup(response.text, 'html.parser')\n",
    "\n",
    "            # Find the market cap value on the page\n",
    "            market_cap_div = soup.find(\"div\", {\"class\": \"FL gL_11 uc\"})\n",
    "            market_cap = market_cap_div.find(\"strong\").text.strip()\n",
    "\n",
    "            return market_cap\n",
    "        else:\n",
    "            print(\"Failed to retrieve data. Check the stock symbol and try again.\")\n",
    "    except Exception as e:\n",
    "        print(f\"An error occurred: {e}\")\n",
    "    return None\n",
    "\n",
    "# Example usage:\n",
    "stock_symbol = \"RELIANCE\"\n",
    "market_cap = get_market_cap(stock_symbol)\n",
    "if market_cap:\n",
    "    print(f\"Market cap of {stock_symbol}: {market_cap} INR\")\n"
   ]
  },
  {
   "cell_type": "code",
   "execution_count": 6,
   "id": "014a49f8",
   "metadata": {},
   "outputs": [
    {
     "ename": "KeyError",
     "evalue": "'marketCap'",
     "output_type": "error",
     "traceback": [
      "\u001b[1;31m---------------------------------------------------------------------------\u001b[0m",
      "\u001b[1;31mKeyError\u001b[0m                                  Traceback (most recent call last)",
      "Input \u001b[1;32mIn [6]\u001b[0m, in \u001b[0;36m<cell line: 18>\u001b[1;34m()\u001b[0m\n\u001b[0;32m     22\u001b[0m \u001b[38;5;66;03m# Fetch stock data using yfinance\u001b[39;00m\n\u001b[0;32m     23\u001b[0m stock_info \u001b[38;5;241m=\u001b[39m yf\u001b[38;5;241m.\u001b[39mTicker(symbol)\u001b[38;5;241m.\u001b[39minfo\n\u001b[1;32m---> 24\u001b[0m marketcap \u001b[38;5;241m=\u001b[39m \u001b[43mstock_info\u001b[49m\u001b[43m[\u001b[49m\u001b[38;5;124;43m\"\u001b[39;49m\u001b[38;5;124;43mmarketCap\u001b[39;49m\u001b[38;5;124;43m\"\u001b[39;49m\u001b[43m]\u001b[49m\n\u001b[0;32m     25\u001b[0m \u001b[38;5;66;03m#current_price = stock.history(period='1d')[\"Close\"].iloc[-1]\u001b[39;00m\n\u001b[0;32m     26\u001b[0m \n\u001b[0;32m     27\u001b[0m \u001b[38;5;66;03m# Format the stock price with 2 decimal places\u001b[39;00m\n\u001b[1;32m   (...)\u001b[0m\n\u001b[0;32m     30\u001b[0m \u001b[38;5;66;03m# Display the company name and stock price\u001b[39;00m\n\u001b[0;32m     31\u001b[0m \u001b[38;5;66;03m#print(f\"{name}: {formatted_price}\")\u001b[39;00m\n\u001b[0;32m     33\u001b[0m \u001b[38;5;28mprint\u001b[39m(stock_info,marketcap)\n",
      "\u001b[1;31mKeyError\u001b[0m: 'marketCap'"
     ]
    }
   ],
   "source": [
    "import yfinance as yf\n",
    "\n",
    "# Define the list of top 10 companies by market capitalization on NSE\n",
    "companies = [\n",
    "    {\"name\": \"Reliance Industries Ltd.\", \"symbol\": \"RELIANCE.NS\"},\n",
    "    {\"name\": \"Tata Consultancy Services Ltd.\", \"symbol\": \"TCS.NS\"},\n",
    "    {\"name\": \"HDFC Bank Ltd.\", \"symbol\": \"HDFCBANK.NS\"},\n",
    "    {\"name\": \"Hindustan Unilever Ltd.\", \"symbol\": \"HINDUNILVR.NS\"},\n",
    "    {\"name\": \"Infosys Ltd.\", \"symbol\": \"INFY.NS\"},\n",
    "    {\"name\": \"ICICI Bank Ltd.\", \"symbol\": \"ICICIBANK.NS\"},\n",
    "    {\"name\": \"Bharti Airtel Ltd.\", \"symbol\": \"BHARTIARTL.NS\"},\n",
    "    {\"name\": \"Kotak Mahindra Bank Ltd.\", \"symbol\": \"KOTAKBANK.NS\"},\n",
    "    {\"name\": \"ITC Ltd.\", \"symbol\": \"ITC.NS\"},\n",
    "    {\"name\": \"Housing Development Finance Corporation Ltd.\", \"symbol\": \"HDFC.NS\"}\n",
    "]\n",
    "\n",
    "# Iterate over the companies and fetch the stock prices\n",
    "for company in companies:\n",
    "    symbol = company[\"symbol\"]\n",
    "    name = company[\"name\"]\n",
    "\n",
    "    # Fetch stock data using yfinance\n",
    "    stock_info = yf.Ticker(symbol).info\n",
    "    marketcap = stock_info[\"marketCap\"]\n",
    "    #current_price = stock.history(period='1d')[\"Close\"].iloc[-1]\n",
    "\n",
    "    # Format the stock price with 2 decimal places\n",
    "    #formatted_price = \"{:.2f}\".format(current_price)\n",
    "\n",
    "    # Display the company name and stock price\n",
    "    #print(f\"{name}: {formatted_price}\")\n",
    "    \n",
    "    print(stock_info,marketcap)"
   ]
  },
  {
   "cell_type": "code",
   "execution_count": 8,
   "id": "9b50572e",
   "metadata": {},
   "outputs": [
    {
     "ename": "KeyError",
     "evalue": "'marketCap'",
     "output_type": "error",
     "traceback": [
      "\u001b[1;31m---------------------------------------------------------------------------\u001b[0m",
      "\u001b[1;31mKeyError\u001b[0m                                  Traceback (most recent call last)",
      "Input \u001b[1;32mIn [8]\u001b[0m, in \u001b[0;36m<cell line: 9>\u001b[1;34m()\u001b[0m\n\u001b[0;32m      9\u001b[0m \u001b[38;5;28;01mfor\u001b[39;00m stock \u001b[38;5;129;01min\u001b[39;00m stocks: \n\u001b[0;32m     10\u001b[0m     info \u001b[38;5;241m=\u001b[39m yf\u001b[38;5;241m.\u001b[39mTicker(stock)\u001b[38;5;241m.\u001b[39minfo\n\u001b[1;32m---> 11\u001b[0m     marketcap \u001b[38;5;241m=\u001b[39m \u001b[43minfo\u001b[49m\u001b[43m[\u001b[49m\u001b[38;5;124;43m'\u001b[39;49m\u001b[38;5;124;43mmarketCap\u001b[39;49m\u001b[38;5;124;43m'\u001b[39;49m\u001b[43m]\u001b[49m    \n\u001b[0;32m     12\u001b[0m     df \u001b[38;5;241m=\u001b[39m df\u001b[38;5;241m.\u001b[39mappend({\u001b[38;5;124m'\u001b[39m\u001b[38;5;124mStock\u001b[39m\u001b[38;5;124m'\u001b[39m:stock,\u001b[38;5;124m'\u001b[39m\u001b[38;5;124mMarketcap\u001b[39m\u001b[38;5;124m'\u001b[39m:marketcap}, ignore_index\u001b[38;5;241m=\u001b[39m\u001b[38;5;28;01mTrue\u001b[39;00m)\n\u001b[0;32m     14\u001b[0m display(df)\n",
      "\u001b[1;31mKeyError\u001b[0m: 'marketCap'"
     ]
    }
   ],
   "source": [
    "import yfinance as yf\n",
    "import pandas as pd\n",
    "\n",
    "stocks = ['XP','STNE','PAGS']\n",
    "\n",
    "df = pd.DataFrame(columns=['Stock','Marketcap'])\n",
    "df.columns = ['Stock','Marketcap']\n",
    "\n",
    "for stock in stocks: \n",
    "    info = yf.Ticker(stock).info\n",
    "    marketcap = info['marketCap']    \n",
    "    df = df.append({'Stock':stock,'Marketcap':marketcap}, ignore_index=True)\n",
    "\n",
    "display(df)"
   ]
  },
  {
   "cell_type": "code",
   "execution_count": 12,
   "id": "20c6f58f",
   "metadata": {},
   "outputs": [
    {
     "name": "stdout",
     "output_type": "stream",
     "text": [
      "Error with:  XP\n",
      "Error with:  STNE\n",
      "Error with:  PAGS\n"
     ]
    }
   ],
   "source": [
    "for ticker in stocks:\n",
    "    try:\n",
    "        marketCap = pdr.get_quote_yahoo('A')['marketCap']\n",
    "        print(marketCap)\n",
    "    except:\n",
    "        print('Error with: ', ticker)"
   ]
  }
 ],
 "metadata": {
  "kernelspec": {
   "display_name": "Python 3 (ipykernel)",
   "language": "python",
   "name": "python3"
  },
  "language_info": {
   "codemirror_mode": {
    "name": "ipython",
    "version": 3
   },
   "file_extension": ".py",
   "mimetype": "text/x-python",
   "name": "python",
   "nbconvert_exporter": "python",
   "pygments_lexer": "ipython3",
   "version": "3.9.12"
  }
 },
 "nbformat": 4,
 "nbformat_minor": 5
}
